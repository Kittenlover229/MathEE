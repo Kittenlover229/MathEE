{
 "cells": [
  {
   "cell_type": "code",
   "execution_count": 35,
   "metadata": {},
   "outputs": [],
   "source": [
    "import matplotlib.pyplot as plt\n",
    "from typing import Callable\n",
    "from cmath import phase as arg, cos, sin, pi, sqrt, e"
   ]
  },
  {
   "cell_type": "code",
   "execution_count": 40,
   "metadata": {},
   "outputs": [],
   "source": [
    "def theta(cat, swan):\n",
    "    if swan == 0 or cat == 0:\n",
    "        return 0\n",
    "    tmp = swan.real * cat.imag - swan.imag * cat.real\n",
    "    if tmp == 0:\n",
    "        return 1\n",
    "    else:\n",
    "        return tmp / abs(tmp)\n",
    "\n",
    "def test_strategy(cat_start: complex, swan_start: complex, tick_limit: int, dt: float, v_cat: Callable, v_swan: Callable, points_out: list) -> int:\n",
    "    cat = cat_start\n",
    "    swan = swan_start\n",
    "\n",
    "    for _ in range(tick_limit):\n",
    "        swan += v_swan(cat, swan) * dt\n",
    "        cat += v_cat(cat, swan) * dt\n",
    "        points_out.append((swan, cat))\n",
    "        if abs(cat - swan) < 10 * dt:\n",
    "            print(\"The swan was caught\")\n",
    "            return -1\n",
    "        elif abs(swan) >= 1.:\n",
    "            print(\"The swan flew away\")\n",
    "            return 0\n",
    "    return 0"
   ]
  },
  {
   "cell_type": "code",
   "execution_count": 42,
   "metadata": {},
   "outputs": [
    {
     "name": "stdout",
     "output_type": "stream",
     "text": [
      "The swan was caught\n",
      "-1\n"
     ]
    }
   ],
   "source": [
    "swan = 0\n",
    "cat = 1\n",
    "\n",
    "def v_cat(cat, swan):\n",
    "    t = theta(cat, swan)\n",
    "    v = 0\n",
    "    if t <= 0:\n",
    "        v = cos(arg(cat) + pi / 2) + 1j * sin(arg(cat) + pi / 2)\n",
    "    else:\n",
    "        v = cos(arg(cat) - pi / 2) + 1j * sin(arg(cat) - pi / 2)\n",
    "    return 4 * v\n",
    "\n",
    "def v_swan(cat, swan):\n",
    "    omega_tick = arg(v_cat(cat, swan))\n",
    "    v_a = sqrt(1 - omega_tick ** 2)\n",
    "\n",
    "    # This should be close to 1\n",
    "    return (1 - 1j) / sqrt(2)\n",
    "\n",
    "points = []\n",
    "dt = 0.0025\n",
    "\n",
    "result = test_strategy(cat, swan, 1000, dt, v_cat, v_swan, points)\n",
    "print(result)\n",
    "\n",
    "circle = plt.Circle((0, 0), 1, color='gray')\n",
    "fig, ax = plt.subplots(figsize=(10, 10))\n",
    "for (swan, cat) in points:\n",
    "    plt.plot(swan.real, swan.imag, 'o', color='black')\n",
    "    plt.plot(cat.real, cat.imag, 'o', color='red')\n",
    "\n",
    "ax.add_patch(circle)\n",
    "ax.set_xlim([-1.7, 1.7])\n",
    "ax.set_ylim([-1.7, 1.7])\n",
    "\n",
    ";"
   ]
  }
 ],
 "metadata": {
  "kernelspec": {
   "display_name": "Python 3",
   "language": "python",
   "name": "python3"
  },
  "language_info": {
   "codemirror_mode": {
    "name": "ipython",
    "version": 3
   },
   "file_extension": ".py",
   "mimetype": "text/x-python",
   "name": "python",
   "nbconvert_exporter": "python",
   "pygments_lexer": "ipython3",
   "version": "3.11.3"
  },
  "orig_nbformat": 4
 },
 "nbformat": 4,
 "nbformat_minor": 2
}
